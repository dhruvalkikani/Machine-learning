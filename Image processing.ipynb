{
 "cells": [
  {
   "cell_type": "markdown",
   "metadata": {
    "execution": {
     "iopub.execute_input": "2022-03-06T18:38:42.96286Z",
     "iopub.status.busy": "2022-03-06T18:38:42.962336Z",
     "iopub.status.idle": "2022-03-06T18:38:43.168147Z",
     "shell.execute_reply": "2022-03-06T18:38:43.167172Z",
     "shell.execute_reply.started": "2022-03-06T18:38:42.962817Z"
    }
   },
   "source": [
    "# Case 2: First trial\n",
    "27.1.2022, Sakari Lukkarinen<br>\n",
    "[Metropolia UAS](https://www.metropolia.fi/en) <br>\n",
    "\n",
    "Gajalakshan Chandrasegaran, Dhruval Kikani<br>\n"
   ]
  },
  {
   "cell_type": "markdown",
   "metadata": {},
   "source": [
    "## 1. Introduction\n",
    "\n",
    "The objective of this case study is to create at Convolutional Neural Network model to predict whether or not a patient has pneumonia or not, based on x-ray images. For this report, we have created three separate models for this prediction. This first model is our chosen best out of the three, though Model 3 is very close to the performance of this model as well.\n",
    "\n",
    "This Notebook is the first trial to use Kaggle Notebook with Case 2 dataset. It differs significantly from the other case study, although it does not affect its performance as a model. Based on the results of the training and verification data, this was a our very best option as a model.It works really well with the data, after running the test data, it became clear that this model has great potential and that it performed very well in predicting the experimental data. \n"
   ]
  },
  {
   "cell_type": "code",
   "execution_count": 35,
   "metadata": {
    "execution": {
     "iopub.execute_input": "2022-03-06T20:07:40.710229Z",
     "iopub.status.busy": "2022-03-06T20:07:40.709645Z",
     "iopub.status.idle": "2022-03-06T20:07:40.725515Z",
     "shell.execute_reply": "2022-03-06T20:07:40.724437Z",
     "shell.execute_reply.started": "2022-03-06T20:07:40.710174Z"
    }
   },
   "outputs": [
    {
     "name": "stdout",
     "output_type": "stream",
     "text": [
      "Populating the interactive namespace from numpy and matplotlib\n",
      "tensorflow 2.8.0\n"
     ]
    }
   ],
   "source": [
    "%pylab inline\n",
    "import numpy as np \n",
    "import pandas as pd \n",
    "import os\n",
    "import seaborn as sns\n",
    "import matplotlib.pyplot as plt\n",
    "import tensorflow as tf\n",
    "from tensorflow import keras\n",
    "from tensorflow.keras import layers, models, optimizers\n",
    "from tensorflow.keras.models import Sequential\n",
    "from tensorflow.keras.preprocessing.image import ImageDataGenerator\n",
    "\n",
    "from sklearn.metrics import classification_report, confusion_matrix\n",
    "print(\"tensorflow\", tf.__version__)"
   ]
  },
  {
   "cell_type": "markdown",
   "metadata": {},
   "source": [
    "## 2.Training settings"
   ]
  },
  {
   "cell_type": "code",
   "execution_count": 36,
   "metadata": {
    "execution": {
     "iopub.execute_input": "2022-03-06T20:07:40.728354Z",
     "iopub.status.busy": "2022-03-06T20:07:40.727760Z",
     "iopub.status.idle": "2022-03-06T20:07:40.739540Z",
     "shell.execute_reply": "2022-03-06T20:07:40.738551Z",
     "shell.execute_reply.started": "2022-03-06T20:07:40.728310Z"
    }
   },
   "outputs": [],
   "source": [
    "batch_size = 32\n",
    "target_size = (180,180)\n",
    "img_height = 180\n",
    "img_width = 180"
   ]
  },
  {
   "cell_type": "markdown",
   "metadata": {},
   "source": [
    "## 3.DataSet"
   ]
  },
  {
   "cell_type": "markdown",
   "metadata": {},
   "source": [
    "The dataset is a collection of x-ray images labeled \"NORMAL\" for a healthy patient and \"PNEUMONIA\" for a pneumonia patient. Because the training and testing data were already neatly segregated into distinct folders, there was no need to manually partition the data into training and testing sets."
   ]
  },
  {
   "cell_type": "code",
   "execution_count": 37,
   "metadata": {
    "execution": {
     "iopub.execute_input": "2022-03-06T20:07:40.743474Z",
     "iopub.status.busy": "2022-03-06T20:07:40.743017Z",
     "iopub.status.idle": "2022-03-06T20:07:40.751388Z",
     "shell.execute_reply": "2022-03-06T20:07:40.750593Z",
     "shell.execute_reply.started": "2022-03-06T20:07:40.743442Z"
    }
   },
   "outputs": [],
   "source": [
    "train_dir = r'C:\\Users\\dkika\\Downloads\\archive (1)\\chest_xray\\train'\n",
    "test_dir = r'C:\\Users\\dkika\\Downloads\\archive (1)\\chest_xray\\test'"
   ]
  },
  {
   "cell_type": "markdown",
   "metadata": {},
   "source": [
    "## 4. Preprocessing"
   ]
  },
  {
   "cell_type": "markdown",
   "metadata": {},
   "source": [
    "**Training**"
   ]
  },
  {
   "cell_type": "code",
   "execution_count": 38,
   "metadata": {
    "execution": {
     "iopub.execute_input": "2022-03-06T20:07:40.753307Z",
     "iopub.status.busy": "2022-03-06T20:07:40.752690Z",
     "iopub.status.idle": "2022-03-06T20:07:44.350136Z",
     "shell.execute_reply": "2022-03-06T20:07:44.349076Z",
     "shell.execute_reply.started": "2022-03-06T20:07:40.753263Z"
    }
   },
   "outputs": [
    {
     "name": "stdout",
     "output_type": "stream",
     "text": [
      "Found 5216 files belonging to 2 classes.\n",
      "Using 4173 files for training.\n"
     ]
    }
   ],
   "source": [
    "# Training dataset\n",
    "train_ds = tf.keras.preprocessing.image_dataset_from_directory(\n",
    "  train_dir,\n",
    "  validation_split = 0.2,\n",
    "  subset = \"training\",\n",
    "  seed = 123,\n",
    "  image_size = target_size,\n",
    "  batch_size = batch_size)"
   ]
  },
  {
   "cell_type": "markdown",
   "metadata": {},
   "source": [
    "**Validation**"
   ]
  },
  {
   "cell_type": "code",
   "execution_count": 39,
   "metadata": {
    "execution": {
     "iopub.execute_input": "2022-03-06T20:07:44.354445Z",
     "iopub.status.busy": "2022-03-06T20:07:44.354145Z",
     "iopub.status.idle": "2022-03-06T20:07:44.692645Z",
     "shell.execute_reply": "2022-03-06T20:07:44.691785Z",
     "shell.execute_reply.started": "2022-03-06T20:07:44.354416Z"
    }
   },
   "outputs": [
    {
     "name": "stdout",
     "output_type": "stream",
     "text": [
      "Found 5216 files belonging to 2 classes.\n",
      "Using 1043 files for validation.\n"
     ]
    }
   ],
   "source": [
    "# Validation dataset\n",
    "val_ds = tf.keras.preprocessing.image_dataset_from_directory(\n",
    "  train_dir,\n",
    "  validation_split = 0.2,\n",
    "  subset = \"validation\",\n",
    "  seed = 123,\n",
    "  image_size = target_size,\n",
    "  batch_size = batch_size)\n",
    "\n"
   ]
  },
  {
   "cell_type": "markdown",
   "metadata": {},
   "source": [
    "**Test**"
   ]
  },
  {
   "cell_type": "code",
   "execution_count": 40,
   "metadata": {
    "execution": {
     "iopub.execute_input": "2022-03-06T20:07:44.698516Z",
     "iopub.status.busy": "2022-03-06T20:07:44.697943Z",
     "iopub.status.idle": "2022-03-06T20:07:44.848643Z",
     "shell.execute_reply": "2022-03-06T20:07:44.847647Z",
     "shell.execute_reply.started": "2022-03-06T20:07:44.698473Z"
    }
   },
   "outputs": [
    {
     "name": "stdout",
     "output_type": "stream",
     "text": [
      "Found 624 files belonging to 2 classes.\n"
     ]
    }
   ],
   "source": [
    "# Test dataset\n",
    "test_ds = tf.keras.preprocessing.image_dataset_from_directory(\n",
    "  test_dir,\n",
    "  image_size = target_size,\n",
    "  batch_size = batch_size)"
   ]
  },
  {
   "cell_type": "markdown",
   "metadata": {},
   "source": [
    "**Speeding up**"
   ]
  },
  {
   "cell_type": "code",
   "execution_count": 41,
   "metadata": {
    "execution": {
     "iopub.execute_input": "2022-03-06T20:07:44.851046Z",
     "iopub.status.busy": "2022-03-06T20:07:44.850621Z",
     "iopub.status.idle": "2022-03-06T20:07:44.859595Z",
     "shell.execute_reply": "2022-03-06T20:07:44.858528Z",
     "shell.execute_reply.started": "2022-03-06T20:07:44.850999Z"
    }
   },
   "outputs": [],
   "source": [
    "AUTOTUNE = tf.data.experimental.AUTOTUNE\n",
    "\n",
    "train_ds = train_ds.cache().shuffle(1000).prefetch(buffer_size=AUTOTUNE)\n",
    "val_ds = val_ds.cache().prefetch(buffer_size=AUTOTUNE)"
   ]
  },
  {
   "cell_type": "markdown",
   "metadata": {},
   "source": [
    "## 5. Modeling"
   ]
  },
  {
   "cell_type": "markdown",
   "metadata": {},
   "source": [
    "For this model, we used a data augmentation layer followed by normalization layer, with three Conv2D() layers. Each hidden layer utilises Dropout() to reduce overfitting. For each hidden layer, we used the ReLU activation function, and sigmoid activation function for the output layer, as this is a binary classification and sigmoid works well to illustrate that. \n",
    "\n",
    "We used binary_crossentropy for the loss function. For the optimizer, we tested both RMSprop and Adam, and came to the conclusion that while Adam gave us a better overall accuracy, specificity and sensitivity in the training and validation datasets.\n",
    "\n",
    "For metrics, we used accuracy as before, with the addition of SpecificityAtSensitivity() and SensitivityAtSpecificity. This was done because, despite multiple efforts to use sklearn classification_report to generate accuracy, sensitivity, and specificity data, this was not compatible with the dataset generator we used in this case study. "
   ]
  },
  {
   "cell_type": "markdown",
   "metadata": {},
   "source": [
    "### Creating Normalization Layer and Data augmentation layer"
   ]
  },
  {
   "cell_type": "code",
   "execution_count": 42,
   "metadata": {
    "execution": {
     "iopub.execute_input": "2022-03-06T20:07:44.861557Z",
     "iopub.status.busy": "2022-03-06T20:07:44.861166Z",
     "iopub.status.idle": "2022-03-06T20:07:44.990338Z",
     "shell.execute_reply": "2022-03-06T20:07:44.989427Z",
     "shell.execute_reply.started": "2022-03-06T20:07:44.861520Z"
    }
   },
   "outputs": [],
   "source": [
    "data_augmentation = keras.Sequential(\n",
    "  [\n",
    "    layers.experimental.preprocessing.RandomFlip(\"horizontal\", input_shape=(img_height, img_width, 3)),\n",
    "    layers.experimental.preprocessing.RandomRotation(0.1),\n",
    "    layers.experimental.preprocessing.RandomZoom(0.1),\n",
    "  ])"
   ]
  },
  {
   "cell_type": "code",
   "execution_count": 43,
   "metadata": {
    "execution": {
     "iopub.execute_input": "2022-03-06T20:07:44.991753Z",
     "iopub.status.busy": "2022-03-06T20:07:44.991352Z",
     "iopub.status.idle": "2022-03-06T20:07:44.998153Z",
     "shell.execute_reply": "2022-03-06T20:07:44.997179Z",
     "shell.execute_reply.started": "2022-03-06T20:07:44.991724Z"
    }
   },
   "outputs": [],
   "source": [
    "normalization_layer = layers.experimental.preprocessing.Rescaling(1./255, input_shape=(target_size, 3))"
   ]
  },
  {
   "cell_type": "markdown",
   "metadata": {},
   "source": [
    "### Creating the Model"
   ]
  },
  {
   "cell_type": "code",
   "execution_count": 44,
   "metadata": {
    "execution": {
     "iopub.execute_input": "2022-03-06T20:07:44.999782Z",
     "iopub.status.busy": "2022-03-06T20:07:44.999476Z",
     "iopub.status.idle": "2022-03-06T20:07:45.256036Z",
     "shell.execute_reply": "2022-03-06T20:07:45.255078Z",
     "shell.execute_reply.started": "2022-03-06T20:07:44.999754Z"
    }
   },
   "outputs": [
    {
     "name": "stdout",
     "output_type": "stream",
     "text": [
      "Model: \"sequential_5\"\n",
      "_________________________________________________________________\n",
      " Layer (type)                Output Shape              Param #   \n",
      "=================================================================\n",
      " sequential_4 (Sequential)   (None, 180, 180, 3)       0         \n",
      "                                                                 \n",
      " rescaling_2 (Rescaling)     (None, 180, 180, 3)       0         \n",
      "                                                                 \n",
      " conv2d_6 (Conv2D)           (None, 180, 180, 32)      896       \n",
      "                                                                 \n",
      " max_pooling2d_6 (MaxPooling  (None, 90, 90, 32)       0         \n",
      " 2D)                                                             \n",
      "                                                                 \n",
      " dropout_6 (Dropout)         (None, 90, 90, 32)        0         \n",
      "                                                                 \n",
      " conv2d_7 (Conv2D)           (None, 90, 90, 64)        18496     \n",
      "                                                                 \n",
      " max_pooling2d_7 (MaxPooling  (None, 45, 45, 64)       0         \n",
      " 2D)                                                             \n",
      "                                                                 \n",
      " dropout_7 (Dropout)         (None, 45, 45, 64)        0         \n",
      "                                                                 \n",
      " conv2d_8 (Conv2D)           (None, 45, 45, 128)       73856     \n",
      "                                                                 \n",
      " max_pooling2d_8 (MaxPooling  (None, 22, 22, 128)      0         \n",
      " 2D)                                                             \n",
      "                                                                 \n",
      " dropout_8 (Dropout)         (None, 22, 22, 128)       0         \n",
      "                                                                 \n",
      " flatten_2 (Flatten)         (None, 61952)             0         \n",
      "                                                                 \n",
      " dense_4 (Dense)             (None, 128)               7929984   \n",
      "                                                                 \n",
      " dense_5 (Dense)             (None, 1)                 129       \n",
      "                                                                 \n",
      "=================================================================\n",
      "Total params: 8,023,361\n",
      "Trainable params: 8,023,361\n",
      "Non-trainable params: 0\n",
      "_________________________________________________________________\n"
     ]
    }
   ],
   "source": [
    "model = Sequential([\n",
    "    data_augmentation,\n",
    "    normalization_layer,\n",
    "    \n",
    "    layers.Conv2D(32, (3, 3), padding = 'same', activation = 'relu'),\n",
    "    layers.MaxPooling2D(2, 2),\n",
    "    layers.Dropout(0.2),\n",
    "    \n",
    "    layers.Conv2D(64, (3, 3), padding = 'same', activation = 'relu'),\n",
    "    layers.MaxPooling2D(2, 2),\n",
    "    layers.Dropout(0.2),\n",
    "    \n",
    "    layers.Conv2D(128, (3, 3), padding = 'same', activation = 'relu'),\n",
    "    layers.MaxPooling2D(2, 2),\n",
    "    layers.Dropout(0.2),\n",
    "    \n",
    "    layers.Flatten(),\n",
    "    layers.Dense(128, activation = 'relu'),\n",
    "    layers.Dense(1, activation = 'sigmoid')\n",
    "])\n",
    "\n",
    "model.compile(loss = 'binary_crossentropy', optimizer = 'adam',\n",
    "              metrics = ['accuracy', tf.keras.metrics.SpecificityAtSensitivity(0.5), tf.keras.metrics.SensitivityAtSpecificity(0.5)])\n",
    "\n",
    "model.summary()"
   ]
  },
  {
   "cell_type": "markdown",
   "metadata": {},
   "source": [
    "## 6. Training"
   ]
  },
  {
   "cell_type": "markdown",
   "metadata": {},
   "source": [
    "Only 5 epochs are really necessary to achieve an acceptable result. This model was fast stabilizing and achieving a plateau of values for all measurements, so further epochs were considered unnecessary. "
   ]
  },
  {
   "cell_type": "code",
   "execution_count": 45,
   "metadata": {
    "execution": {
     "iopub.execute_input": "2022-03-06T20:07:45.258045Z",
     "iopub.status.busy": "2022-03-06T20:07:45.257508Z",
     "iopub.status.idle": "2022-03-06T20:23:27.027550Z",
     "shell.execute_reply": "2022-03-06T20:23:27.026378Z",
     "shell.execute_reply.started": "2022-03-06T20:07:45.257993Z"
    }
   },
   "outputs": [
    {
     "name": "stdout",
     "output_type": "stream",
     "text": [
      "Wall time: 9min 26s\n"
     ]
    }
   ],
   "source": [
    "%%time\n",
    "E = 5\n",
    "h = model.fit(      \n",
    "      train_ds,\n",
    "      validation_data = val_ds,\n",
    "      verbose = 0, \n",
    "      epochs = E)"
   ]
  },
  {
   "cell_type": "markdown",
   "metadata": {},
   "source": [
    "## 7. Evaluation and Results"
   ]
  },
  {
   "cell_type": "markdown",
   "metadata": {},
   "source": [
    "### Training and Validation Accuracy"
   ]
  },
  {
   "cell_type": "code",
   "execution_count": 46,
   "metadata": {
    "execution": {
     "iopub.execute_input": "2022-03-06T20:23:27.030015Z",
     "iopub.status.busy": "2022-03-06T20:23:27.029504Z",
     "iopub.status.idle": "2022-03-06T20:23:27.415275Z",
     "shell.execute_reply": "2022-03-06T20:23:27.414121Z",
     "shell.execute_reply.started": "2022-03-06T20:23:27.029962Z"
    }
   },
   "outputs": [
    {
     "data": {
      "image/png": "[encoded data removed]",
      "text/plain": [
       "<Figure size 936x360 with 2 Axes>"
      ]
     },
     "metadata": {
      "needs_background": "light"
     },
     "output_type": "display_data"
    }
   ],
   "source": [
    "loss = h.history['loss']\n",
    "acc = h.history['accuracy']\n",
    "val_loss = h.history['val_loss']\n",
    "val_acc = h.history['val_accuracy']\n",
    "x = arange(len(loss)) + 1\n",
    "\n",
    "figure(figsize(13, 5))\n",
    "subplot(1, 2, 1)\n",
    "plot(x,loss, '*-', label = 'training')\n",
    "plot(x, val_loss, 'o-', label = 'validation')\n",
    "title('loss')\n",
    "ylim(0, )\n",
    "legend()\n",
    "grid()\n",
    "\n",
    "subplot(1, 2, 2)\n",
    "plot(x, acc, '*-', label = 'training')\n",
    "plot(x, val_acc, 'o-', label = 'validation')\n",
    "title('accuracy')\n",
    "ylim(0.5, 1.0)\n",
    "legend()\n",
    "grid()"
   ]
  },
  {
   "cell_type": "code",
   "execution_count": 47,
   "metadata": {},
   "outputs": [
    {
     "name": "stdout",
     "output_type": "stream",
     "text": [
      "33/33 [==============================] - 6s 176ms/step - loss: 0.2243 - accuracy: 0.9051 - specificity_at_sensitivity_2: 1.0000 - sensitivity_at_specificity_2: 0.9951\n",
      "The validation accuracy is : 90.50815105438232 %\n",
      "The validation specificity is : 100.0 %\n",
      "The validation sensitivity is : 99.50617551803589 %\n"
     ]
    }
   ],
   "source": [
    "results = model.evaluate(val_ds)\n",
    "print('The validation accuracy is :', results[1]*100, '%')\n",
    "print('The validation specificity is :', results[2]*100, '%')\n",
    "print('The validation sensitivity is :', results[3]*100, '%')"
   ]
  },
  {
   "cell_type": "markdown",
   "metadata": {},
   "source": [
    "###  Evaluation"
   ]
  },
  {
   "cell_type": "markdown",
   "metadata": {},
   "source": [
    "Even with unknown data, the model worked admirably, as shown below. Although the total accuracy is lower than the training and validation sets, the specificity and sensitivity are both over 90%, indicating that the model was not overfitted for the validation datasets."
   ]
  },
  {
   "cell_type": "code",
   "execution_count": 48,
   "metadata": {
    "execution": {
     "iopub.execute_input": "2022-03-06T20:23:27.417472Z",
     "iopub.status.busy": "2022-03-06T20:23:27.416972Z",
     "iopub.status.idle": "2022-03-06T20:23:39.122573Z",
     "shell.execute_reply": "2022-03-06T20:23:39.121215Z",
     "shell.execute_reply.started": "2022-03-06T20:23:27.417427Z"
    }
   },
   "outputs": [
    {
     "name": "stdout",
     "output_type": "stream",
     "text": [
      "20/20 [==============================] - 5s 201ms/step - loss: 0.3591 - accuracy: 0.8237 - specificity_at_sensitivity_2: 0.9957 - sensitivity_at_specificity_2: 0.9641\n",
      "The testing accuracy is : 82.37179517745972 %\n",
      "The testing specificity is : 99.5726466178894 %\n",
      "The testing sensitivity is : 96.4102566242218 %\n"
     ]
    }
   ],
   "source": [
    "results = model.evaluate(test_ds)\n",
    "print('The testing accuracy is :', results[1]*100, '%')\n",
    "print('The testing specificity is :', results[2]*100, '%')\n",
    "print('The testing sensitivity is :', results[3]*100, '%')"
   ]
  },
  {
   "cell_type": "markdown",
   "metadata": {},
   "source": [
    "## 8. Conclusions"
   ]
  },
  {
   "cell_type": "markdown",
   "metadata": {},
   "source": [
    "Based on the training and validation data, this was our top performing model overall. The model's accuracy, sensitivity, and specificity were all excellent, and it also performed admirably with test data, though with lower accuracy than the training and validation sets. This is to be expected, given that the model has never seen test data before.\n",
    "Although it has lot of room to improve as a model.\n",
    "laslty these results are after watching many models on the interent and trying to understand different ideas as a result it is a mix of what we have overally learned and gained knowlegde about."
   ]
  }
 ],
 "metadata": {
  "kernelspec": {
   "display_name": "Python 3 (ipykernel)",
   "language": "python",
   "name": "python3"
  },
  "language_info": {
   "codemirror_mode": {
    "name": "ipython",
    "version": 3
   },
   "file_extension": ".py",
   "mimetype": "text/x-python",
   "name": "python",
   "nbconvert_exporter": "python",
   "pygments_lexer": "ipython3",
   "version": "3.9.7"
  }
 },
 "nbformat": 4,
 "nbformat_minor": 4
}

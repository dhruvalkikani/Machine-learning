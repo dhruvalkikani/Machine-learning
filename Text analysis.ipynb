{
 "cells": [
  {
   "cell_type": "markdown",
   "metadata": {},
   "source": [
    "# Case 3. \n",
    "Dhruval Kikani and Gajalakshan Chandrasegaran<br>\n",
    "Last edited: 13.03.20xx<br>\n",
    "Neural Networks for Health Technology Applications<br>\n",
    "[Helsinki Metropolia University of Applied Sciences](http://www.metropolia.fi/en/)<br>"
   ]
  },
  {
   "cell_type": "markdown",
   "metadata": {},
   "source": [
    "# Background"
   ]
  },
  {
   "cell_type": "markdown",
   "metadata": {},
   "source": [
    "The aim of this Notebook is to use Convolutional Neural Networks or Recurrent Neural Networks in order to create a multiclass classifier for patient drug reviews from Drugs.com. The goal of the neural network model is to anticipate a drug's rating based on the content of the review. To make the process easier and to demonstrate sentiment analysis in this case study, the ratings are divided into three categories: Positive, Neutral, and Negative.\n"
   ]
  },
  {
   "cell_type": "code",
   "execution_count": 1,
   "metadata": {},
   "outputs": [
    {
     "name": "stdout",
     "output_type": "stream",
     "text": [
      "tensorflow version: 2.8.0\n"
     ]
    }
   ],
   "source": [
    "# Read the basic libraries (similar start as in Kaggle kernels)\n",
    "\n",
    "import time # for timing\n",
    "import numpy as np # linear algebra\n",
    "import pandas as pd # data processing, CSV file I/O (e.g. pd.read_csv)\n",
    "import matplotlib.pyplot as plt\n",
    "import seaborn as sns \n",
    "sns.set(style = 'whitegrid')\n",
    "\n",
    "# Neural network libraries\n",
    "import tensorflow as tf\n",
    "\n",
    "\n",
    "\n",
    "# Preprocessing utilities\n",
    "from sklearn.model_selection import train_test_split # preprocessing datasets\n",
    "from tensorflow.keras.preprocessing.text import Tokenizer # text preprocessing\n",
    "from tensorflow.keras.preprocessing.sequence import pad_sequences # text preprocessing\n",
    "from tensorflow.keras.utils import to_categorical # for one-hot-encoding\n",
    "\n",
    "# For modeling\n",
    "from tensorflow.keras.models import Model\n",
    "from tensorflow.keras.models import Sequential # modeling neural networks\n",
    "from tensorflow.keras.layers import Embedding, LSTM, Dense\n",
    "from tensorflow.keras.layers import Dense, Input, Activation, Embedding, Dropout\n",
    "from tensorflow.keras.layers import Conv1D, MaxPooling1D, GlobalMaxPooling1D, GlobalAveragePooling1D\n",
    "from tensorflow.keras.initializers import Constant\n",
    "\n",
    "# Final metrics\n",
    "from sklearn.metrics import confusion_matrix, classification_report, cohen_kappa_score\n",
    "\n",
    "# Operating system\n",
    "import os\n",
    "\n",
    "# Check the tensorflow version\n",
    "print('tensorflow version:', tf.__version__)"
   ]
  },
  {
   "cell_type": "markdown",
   "metadata": {},
   "source": [
    "# Data"
   ]
  },
  {
   "cell_type": "markdown",
   "metadata": {},
   "source": [
    "The data contained a collection of reviews of numerous prescription drugs from Drugs.com was utilized as the dataset. The downloadable data is already divided into training and testing sets, with training data accounting for 75% of the total data and testing data accounting for 25%. As a result, the training data was used to create a validation dataset."
   ]
  },
  {
   "cell_type": "code",
   "execution_count": 2,
   "metadata": {
    "tags": []
   },
   "outputs": [
    {
     "data": {
      "text/html": [
       "<div>\n",
       "<style scoped>\n",
       "    .dataframe tbody tr th:only-of-type {\n",
       "        vertical-align: middle;\n",
       "    }\n",
       "\n",
       "    .dataframe tbody tr th {\n",
       "        vertical-align: top;\n",
       "    }\n",
       "\n",
       "    .dataframe thead th {\n",
       "        text-align: right;\n",
       "    }\n",
       "</style>\n",
       "<table border=\"1\" class=\"dataframe\">\n",
       "  <thead>\n",
       "    <tr style=\"text-align: right;\">\n",
       "      <th></th>\n",
       "      <th>uniqueID</th>\n",
       "      <th>drugName</th>\n",
       "      <th>condition</th>\n",
       "      <th>review</th>\n",
       "      <th>rating</th>\n",
       "      <th>date</th>\n",
       "      <th>usefulCount</th>\n",
       "    </tr>\n",
       "  </thead>\n",
       "  <tbody>\n",
       "    <tr>\n",
       "      <th>0</th>\n",
       "      <td>206461</td>\n",
       "      <td>Valsartan</td>\n",
       "      <td>Left Ventricular Dysfunction</td>\n",
       "      <td>\"It has no side effect, I take it in combinati...</td>\n",
       "      <td>9</td>\n",
       "      <td>20-May-12</td>\n",
       "      <td>27</td>\n",
       "    </tr>\n",
       "    <tr>\n",
       "      <th>1</th>\n",
       "      <td>95260</td>\n",
       "      <td>Guanfacine</td>\n",
       "      <td>ADHD</td>\n",
       "      <td>\"My son is halfway through his fourth week of ...</td>\n",
       "      <td>8</td>\n",
       "      <td>27-Apr-10</td>\n",
       "      <td>192</td>\n",
       "    </tr>\n",
       "    <tr>\n",
       "      <th>2</th>\n",
       "      <td>92703</td>\n",
       "      <td>Lybrel</td>\n",
       "      <td>Birth Control</td>\n",
       "      <td>\"I used to take another oral contraceptive, wh...</td>\n",
       "      <td>5</td>\n",
       "      <td>14-Dec-09</td>\n",
       "      <td>17</td>\n",
       "    </tr>\n",
       "    <tr>\n",
       "      <th>3</th>\n",
       "      <td>138000</td>\n",
       "      <td>Ortho Evra</td>\n",
       "      <td>Birth Control</td>\n",
       "      <td>\"This is my first time using any form of birth...</td>\n",
       "      <td>8</td>\n",
       "      <td>3-Nov-15</td>\n",
       "      <td>10</td>\n",
       "    </tr>\n",
       "    <tr>\n",
       "      <th>4</th>\n",
       "      <td>35696</td>\n",
       "      <td>Buprenorphine / naloxone</td>\n",
       "      <td>Opiate Dependence</td>\n",
       "      <td>\"Suboxone has completely turned my life around...</td>\n",
       "      <td>9</td>\n",
       "      <td>27-Nov-16</td>\n",
       "      <td>37</td>\n",
       "    </tr>\n",
       "    <tr>\n",
       "      <th>5</th>\n",
       "      <td>155963</td>\n",
       "      <td>Cialis</td>\n",
       "      <td>Benign Prostatic Hyperplasia</td>\n",
       "      <td>\"2nd day on 5mg started to work with rock hard...</td>\n",
       "      <td>2</td>\n",
       "      <td>28-Nov-15</td>\n",
       "      <td>43</td>\n",
       "    </tr>\n",
       "    <tr>\n",
       "      <th>6</th>\n",
       "      <td>165907</td>\n",
       "      <td>Levonorgestrel</td>\n",
       "      <td>Emergency Contraception</td>\n",
       "      <td>\"He pulled out, but he cummed a bit in me. I t...</td>\n",
       "      <td>1</td>\n",
       "      <td>7-Mar-17</td>\n",
       "      <td>5</td>\n",
       "    </tr>\n",
       "    <tr>\n",
       "      <th>7</th>\n",
       "      <td>102654</td>\n",
       "      <td>Aripiprazole</td>\n",
       "      <td>Bipolar Disorde</td>\n",
       "      <td>\"Abilify changed my life. There is hope. I was...</td>\n",
       "      <td>10</td>\n",
       "      <td>14-Mar-15</td>\n",
       "      <td>32</td>\n",
       "    </tr>\n",
       "    <tr>\n",
       "      <th>8</th>\n",
       "      <td>74811</td>\n",
       "      <td>Keppra</td>\n",
       "      <td>Epilepsy</td>\n",
       "      <td>\" I Ve had  nothing but problems with the Kepp...</td>\n",
       "      <td>1</td>\n",
       "      <td>9-Aug-16</td>\n",
       "      <td>11</td>\n",
       "    </tr>\n",
       "    <tr>\n",
       "      <th>9</th>\n",
       "      <td>48928</td>\n",
       "      <td>Ethinyl estradiol / levonorgestrel</td>\n",
       "      <td>Birth Control</td>\n",
       "      <td>\"I had been on the pill for many years. When m...</td>\n",
       "      <td>8</td>\n",
       "      <td>8-Dec-16</td>\n",
       "      <td>1</td>\n",
       "    </tr>\n",
       "    <tr>\n",
       "      <th>10</th>\n",
       "      <td>29607</td>\n",
       "      <td>Topiramate</td>\n",
       "      <td>Migraine Prevention</td>\n",
       "      <td>\"I have been on this medication almost two wee...</td>\n",
       "      <td>9</td>\n",
       "      <td>1-Jan-15</td>\n",
       "      <td>19</td>\n",
       "    </tr>\n",
       "    <tr>\n",
       "      <th>11</th>\n",
       "      <td>75612</td>\n",
       "      <td>L-methylfolate</td>\n",
       "      <td>Depression</td>\n",
       "      <td>\"I have taken anti-depressants for years, with...</td>\n",
       "      <td>10</td>\n",
       "      <td>9-Mar-17</td>\n",
       "      <td>54</td>\n",
       "    </tr>\n",
       "    <tr>\n",
       "      <th>12</th>\n",
       "      <td>191290</td>\n",
       "      <td>Pentasa</td>\n",
       "      <td>Crohn's Disease</td>\n",
       "      <td>\"I had Crohn&amp;#039;s with a resection 30 years ...</td>\n",
       "      <td>4</td>\n",
       "      <td>6-Jul-13</td>\n",
       "      <td>8</td>\n",
       "    </tr>\n",
       "    <tr>\n",
       "      <th>13</th>\n",
       "      <td>221320</td>\n",
       "      <td>Dextromethorphan</td>\n",
       "      <td>Cough</td>\n",
       "      <td>\"Have a little bit of a lingering cough from a...</td>\n",
       "      <td>4</td>\n",
       "      <td>7-Sep-17</td>\n",
       "      <td>1</td>\n",
       "    </tr>\n",
       "    <tr>\n",
       "      <th>14</th>\n",
       "      <td>98494</td>\n",
       "      <td>Nexplanon</td>\n",
       "      <td>Birth Control</td>\n",
       "      <td>\"Started Nexplanon 2 months ago because I have...</td>\n",
       "      <td>3</td>\n",
       "      <td>7-Aug-14</td>\n",
       "      <td>10</td>\n",
       "    </tr>\n",
       "    <tr>\n",
       "      <th>15</th>\n",
       "      <td>81890</td>\n",
       "      <td>Liraglutide</td>\n",
       "      <td>Obesity</td>\n",
       "      <td>\"I have been taking Saxenda since July 2016.  ...</td>\n",
       "      <td>9</td>\n",
       "      <td>19-Jan-17</td>\n",
       "      <td>20</td>\n",
       "    </tr>\n",
       "    <tr>\n",
       "      <th>16</th>\n",
       "      <td>48188</td>\n",
       "      <td>Trimethoprim</td>\n",
       "      <td>Urinary Tract Infection</td>\n",
       "      <td>\"This drug worked very well for me and cleared...</td>\n",
       "      <td>9</td>\n",
       "      <td>22-Sep-17</td>\n",
       "      <td>0</td>\n",
       "    </tr>\n",
       "    <tr>\n",
       "      <th>17</th>\n",
       "      <td>219869</td>\n",
       "      <td>Amitriptyline</td>\n",
       "      <td>ibromyalgia</td>\n",
       "      <td>\"I&amp;#039;ve been taking amitriptyline since Jan...</td>\n",
       "      <td>9</td>\n",
       "      <td>15-Mar-17</td>\n",
       "      <td>39</td>\n",
       "    </tr>\n",
       "    <tr>\n",
       "      <th>18</th>\n",
       "      <td>212077</td>\n",
       "      <td>Lamotrigine</td>\n",
       "      <td>Bipolar Disorde</td>\n",
       "      <td>\"I&amp;#039;ve been on every medicine under the su...</td>\n",
       "      <td>10</td>\n",
       "      <td>9-Nov-14</td>\n",
       "      <td>18</td>\n",
       "    </tr>\n",
       "    <tr>\n",
       "      <th>19</th>\n",
       "      <td>119705</td>\n",
       "      <td>Nilotinib</td>\n",
       "      <td>Chronic Myelogenous Leukemia</td>\n",
       "      <td>\"I have been on Tasigna for just over 3 years ...</td>\n",
       "      <td>10</td>\n",
       "      <td>1-Sep-15</td>\n",
       "      <td>11</td>\n",
       "    </tr>\n",
       "    <tr>\n",
       "      <th>20</th>\n",
       "      <td>12372</td>\n",
       "      <td>Atripla</td>\n",
       "      <td>HIV Infection</td>\n",
       "      <td>\"Spring of 2008 I was hospitalized with pnuemo...</td>\n",
       "      <td>8</td>\n",
       "      <td>9-Jul-10</td>\n",
       "      <td>11</td>\n",
       "    </tr>\n",
       "    <tr>\n",
       "      <th>21</th>\n",
       "      <td>231466</td>\n",
       "      <td>Trazodone</td>\n",
       "      <td>Insomnia</td>\n",
       "      <td>\"I have insomnia, it&amp;#039;s horrible. My story...</td>\n",
       "      <td>10</td>\n",
       "      <td>3-Apr-16</td>\n",
       "      <td>43</td>\n",
       "    </tr>\n",
       "    <tr>\n",
       "      <th>22</th>\n",
       "      <td>227020</td>\n",
       "      <td>Etonogestrel</td>\n",
       "      <td>Birth Control</td>\n",
       "      <td>\"Nexplanon does its job. I can have worry free...</td>\n",
       "      <td>9</td>\n",
       "      <td>11-Aug-14</td>\n",
       "      <td>11</td>\n",
       "    </tr>\n",
       "    <tr>\n",
       "      <th>23</th>\n",
       "      <td>41928</td>\n",
       "      <td>Etanercept</td>\n",
       "      <td>Rheumatoid Arthritis</td>\n",
       "      <td>\"I live in Western Australia and disturbed by ...</td>\n",
       "      <td>10</td>\n",
       "      <td>16-Sep-17</td>\n",
       "      <td>4</td>\n",
       "    </tr>\n",
       "    <tr>\n",
       "      <th>24</th>\n",
       "      <td>213649</td>\n",
       "      <td>Tioconazole</td>\n",
       "      <td>Vaginal Yeast Infection</td>\n",
       "      <td>\"Do not use the cream that comes with this. It...</td>\n",
       "      <td>1</td>\n",
       "      <td>17-Apr-17</td>\n",
       "      <td>7</td>\n",
       "    </tr>\n",
       "    <tr>\n",
       "      <th>25</th>\n",
       "      <td>51215</td>\n",
       "      <td>Azithromycin</td>\n",
       "      <td>Chlamydia Infection</td>\n",
       "      <td>\"Was prescribed one dose over the course of on...</td>\n",
       "      <td>7</td>\n",
       "      <td>14-Dec-15</td>\n",
       "      <td>7</td>\n",
       "    </tr>\n",
       "    <tr>\n",
       "      <th>26</th>\n",
       "      <td>206180</td>\n",
       "      <td>Eflornithine</td>\n",
       "      <td>Hirsutism</td>\n",
       "      <td>\"I&amp;#039;m writing a second review on Vaniqa.  ...</td>\n",
       "      <td>10</td>\n",
       "      <td>11-May-14</td>\n",
       "      <td>99</td>\n",
       "    </tr>\n",
       "    <tr>\n",
       "      <th>27</th>\n",
       "      <td>78563</td>\n",
       "      <td>Daytrana</td>\n",
       "      <td>ADHD</td>\n",
       "      <td>\"Hi all, My son who is 12 was diagnosed when h...</td>\n",
       "      <td>10</td>\n",
       "      <td>12-Jan-17</td>\n",
       "      <td>11</td>\n",
       "    </tr>\n",
       "    <tr>\n",
       "      <th>28</th>\n",
       "      <td>132258</td>\n",
       "      <td>Ativan</td>\n",
       "      <td>Panic Disorde</td>\n",
       "      <td>\"Honestly, I have been taking ativan for 2 yea...</td>\n",
       "      <td>6</td>\n",
       "      <td>1-Jun-15</td>\n",
       "      <td>47</td>\n",
       "    </tr>\n",
       "    <tr>\n",
       "      <th>29</th>\n",
       "      <td>27339</td>\n",
       "      <td>Imitrex</td>\n",
       "      <td>Migraine</td>\n",
       "      <td>\"At first I suffered through them. This includ...</td>\n",
       "      <td>8</td>\n",
       "      <td>16-Oct-12</td>\n",
       "      <td>6</td>\n",
       "    </tr>\n",
       "  </tbody>\n",
       "</table>\n",
       "</div>"
      ],
      "text/plain": [
       "    uniqueID                            drugName  \\\n",
       "0     206461                           Valsartan   \n",
       "1      95260                          Guanfacine   \n",
       "2      92703                              Lybrel   \n",
       "3     138000                          Ortho Evra   \n",
       "4      35696            Buprenorphine / naloxone   \n",
       "5     155963                              Cialis   \n",
       "6     165907                      Levonorgestrel   \n",
       "7     102654                        Aripiprazole   \n",
       "8      74811                              Keppra   \n",
       "9      48928  Ethinyl estradiol / levonorgestrel   \n",
       "10     29607                          Topiramate   \n",
       "11     75612                      L-methylfolate   \n",
       "12    191290                             Pentasa   \n",
       "13    221320                    Dextromethorphan   \n",
       "14     98494                           Nexplanon   \n",
       "15     81890                         Liraglutide   \n",
       "16     48188                        Trimethoprim   \n",
       "17    219869                       Amitriptyline   \n",
       "18    212077                         Lamotrigine   \n",
       "19    119705                           Nilotinib   \n",
       "20     12372                             Atripla   \n",
       "21    231466                           Trazodone   \n",
       "22    227020                        Etonogestrel   \n",
       "23     41928                          Etanercept   \n",
       "24    213649                         Tioconazole   \n",
       "25     51215                        Azithromycin   \n",
       "26    206180                        Eflornithine   \n",
       "27     78563                            Daytrana   \n",
       "28    132258                              Ativan   \n",
       "29     27339                             Imitrex   \n",
       "\n",
       "                       condition  \\\n",
       "0   Left Ventricular Dysfunction   \n",
       "1                           ADHD   \n",
       "2                  Birth Control   \n",
       "3                  Birth Control   \n",
       "4              Opiate Dependence   \n",
       "5   Benign Prostatic Hyperplasia   \n",
       "6        Emergency Contraception   \n",
       "7                Bipolar Disorde   \n",
       "8                       Epilepsy   \n",
       "9                  Birth Control   \n",
       "10           Migraine Prevention   \n",
       "11                    Depression   \n",
       "12               Crohn's Disease   \n",
       "13                         Cough   \n",
       "14                 Birth Control   \n",
       "15                       Obesity   \n",
       "16       Urinary Tract Infection   \n",
       "17                   ibromyalgia   \n",
       "18               Bipolar Disorde   \n",
       "19  Chronic Myelogenous Leukemia   \n",
       "20                 HIV Infection   \n",
       "21                      Insomnia   \n",
       "22                 Birth Control   \n",
       "23          Rheumatoid Arthritis   \n",
       "24       Vaginal Yeast Infection   \n",
       "25           Chlamydia Infection   \n",
       "26                     Hirsutism   \n",
       "27                          ADHD   \n",
       "28                 Panic Disorde   \n",
       "29                      Migraine   \n",
       "\n",
       "                                               review  rating       date  \\\n",
       "0   \"It has no side effect, I take it in combinati...       9  20-May-12   \n",
       "1   \"My son is halfway through his fourth week of ...       8  27-Apr-10   \n",
       "2   \"I used to take another oral contraceptive, wh...       5  14-Dec-09   \n",
       "3   \"This is my first time using any form of birth...       8   3-Nov-15   \n",
       "4   \"Suboxone has completely turned my life around...       9  27-Nov-16   \n",
       "5   \"2nd day on 5mg started to work with rock hard...       2  28-Nov-15   \n",
       "6   \"He pulled out, but he cummed a bit in me. I t...       1   7-Mar-17   \n",
       "7   \"Abilify changed my life. There is hope. I was...      10  14-Mar-15   \n",
       "8   \" I Ve had  nothing but problems with the Kepp...       1   9-Aug-16   \n",
       "9   \"I had been on the pill for many years. When m...       8   8-Dec-16   \n",
       "10  \"I have been on this medication almost two wee...       9   1-Jan-15   \n",
       "11  \"I have taken anti-depressants for years, with...      10   9-Mar-17   \n",
       "12  \"I had Crohn&#039;s with a resection 30 years ...       4   6-Jul-13   \n",
       "13  \"Have a little bit of a lingering cough from a...       4   7-Sep-17   \n",
       "14  \"Started Nexplanon 2 months ago because I have...       3   7-Aug-14   \n",
       "15  \"I have been taking Saxenda since July 2016.  ...       9  19-Jan-17   \n",
       "16  \"This drug worked very well for me and cleared...       9  22-Sep-17   \n",
       "17  \"I&#039;ve been taking amitriptyline since Jan...       9  15-Mar-17   \n",
       "18  \"I&#039;ve been on every medicine under the su...      10   9-Nov-14   \n",
       "19  \"I have been on Tasigna for just over 3 years ...      10   1-Sep-15   \n",
       "20  \"Spring of 2008 I was hospitalized with pnuemo...       8   9-Jul-10   \n",
       "21  \"I have insomnia, it&#039;s horrible. My story...      10   3-Apr-16   \n",
       "22  \"Nexplanon does its job. I can have worry free...       9  11-Aug-14   \n",
       "23  \"I live in Western Australia and disturbed by ...      10  16-Sep-17   \n",
       "24  \"Do not use the cream that comes with this. It...       1  17-Apr-17   \n",
       "25  \"Was prescribed one dose over the course of on...       7  14-Dec-15   \n",
       "26  \"I&#039;m writing a second review on Vaniqa.  ...      10  11-May-14   \n",
       "27  \"Hi all, My son who is 12 was diagnosed when h...      10  12-Jan-17   \n",
       "28  \"Honestly, I have been taking ativan for 2 yea...       6   1-Jun-15   \n",
       "29  \"At first I suffered through them. This includ...       8  16-Oct-12   \n",
       "\n",
       "    usefulCount  \n",
       "0            27  \n",
       "1           192  \n",
       "2            17  \n",
       "3            10  \n",
       "4            37  \n",
       "5            43  \n",
       "6             5  \n",
       "7            32  \n",
       "8            11  \n",
       "9             1  \n",
       "10           19  \n",
       "11           54  \n",
       "12            8  \n",
       "13            1  \n",
       "14           10  \n",
       "15           20  \n",
       "16            0  \n",
       "17           39  \n",
       "18           18  \n",
       "19           11  \n",
       "20           11  \n",
       "21           43  \n",
       "22           11  \n",
       "23            4  \n",
       "24            7  \n",
       "25            7  \n",
       "26           99  \n",
       "27           11  \n",
       "28           47  \n",
       "29            6  "
      ]
     },
     "execution_count": 2,
     "metadata": {},
     "output_type": "execute_result"
    }
   ],
   "source": [
    "# Create dataframes train and test\n",
    "train = pd.read_csv('drugsComTrain_raw.csv')\n",
    "test = pd.read_csv('drugsComTest_raw.csv')\n",
    "\n",
    "# Show the first 5 rows of the train set\n",
    "train.head(30)"
   ]
  },
  {
   "cell_type": "markdown",
   "metadata": {},
   "source": [
    "## Visualizing"
   ]
  },
  {
   "cell_type": "markdown",
   "metadata": {},
   "source": [
    "**Concatenating the Training and Testing Datasets**"
   ]
  },
  {
   "cell_type": "markdown",
   "metadata": {},
   "source": [
    "Note - Concatenating is done for only visualising purpose"
   ]
  },
  {
   "cell_type": "markdown",
   "metadata": {},
   "source": [
    "**Top 20 drugs with 10/10 rating**"
   ]
  },
  {
   "cell_type": "code",
   "execution_count": 3,
   "metadata": {},
   "outputs": [],
   "source": [
    "Condata = pd.concat([train, test])"
   ]
  },
  {
   "cell_type": "code",
   "execution_count": 4,
   "metadata": {},
   "outputs": [
    {
     "data": {
      "image/png": "[encoded data removed]",
      "text/plain": [
       "<Figure size 1080x576 with 1 Axes>"
      ]
     },
     "metadata": {},
     "output_type": "display_data"
    }
   ],
   "source": [
    "# This barplot shows the top 20 drugs with the 10/10 rating\n",
    "\n",
    "# Setting the Parameter\n",
    "sns.set(font_scale = 1.2, style = 'darkgrid')\n",
    "plt.rcParams['figure.figsize'] = [15, 8]\n",
    "\n",
    "rating = dict(Condata.loc[Condata.rating == 10, \"drugName\"].value_counts())\n",
    "drugname = list(rating.keys())\n",
    "drug_rating = list(rating.values())\n",
    "\n",
    "sns_rating = sns.barplot(x = drugname[0:20], y = drug_rating[0:20])\n",
    "\n",
    "sns_rating.set_title('Top 20 drugs with 10/10 rating')\n",
    "sns_rating.set_ylabel(\"Number of Ratings\")\n",
    "sns_rating.set_xlabel(\"Drug Names\")\n",
    "plt.setp(sns_rating.get_xticklabels(), rotation=90);"
   ]
  },
  {
   "cell_type": "markdown",
   "metadata": {},
   "source": [
    "**Top 20 drugs with 1/10 rating**"
   ]
  },
  {
   "cell_type": "code",
   "execution_count": 5,
   "metadata": {},
   "outputs": [
    {
     "data": {
      "image/png": "[encoded data removed]",
      "text/plain": [
       "<Figure size 1080x576 with 1 Axes>"
      ]
     },
     "metadata": {},
     "output_type": "display_data"
    }
   ],
   "source": [
    "# This barplot shows the Top 20 drugs with the 1/10 rating\n",
    "\n",
    "# Setting the Parameter\n",
    "sns.set(font_scale = 1.2, style = 'darkgrid')\n",
    "plt.rcParams['figure.figsize'] = [15, 8]\n",
    "\n",
    "rating = dict(Condata.loc[Condata.rating == 1, \"drugName\"].value_counts())\n",
    "drugname = list(rating.keys())\n",
    "drug_rating = list(rating.values())\n",
    "\n",
    "sns_rating = sns.barplot(x = drugname[0:20], y = drug_rating[0:20], palette = 'winter')\n",
    "\n",
    "sns_rating.set_title('Top 20 drugs with 1/10 rating')\n",
    "sns_rating.set_ylabel(\"Number of Ratings\")\n",
    "sns_rating.set_xlabel(\"Drug Names\")\n",
    "plt.setp(sns_rating.get_xticklabels(), rotation=90);"
   ]
  },
  {
   "cell_type": "markdown",
   "metadata": {},
   "source": [
    "# Preprocessing"
   ]
  },
  {
   "cell_type": "markdown",
   "metadata": {},
   "source": [
    "The dataset required significant preprocessing,at first all the NaN values are dropped from the dataset since they dont contribute anything. Many conditions had an HTML tag left in called \"/span\" which were also removed from the data.Some apostrophes were interpreted incorrectly,their ASCII code was dispalyed rather than the actual \"'\", so they were replaced as well.All the conditions that had only have one drug were also erased since it can make ratings biased,all the data was converted into lower captial to make the model for training and testing purpose, lastly one hot codeing was also implemented on the dataset."
   ]
  },
  {
   "cell_type": "markdown",
   "metadata": {},
   "source": [
    "**Looking for NaN values**"
   ]
  },
  {
   "cell_type": "code",
   "execution_count": 6,
   "metadata": {},
   "outputs": [
    {
     "data": {
      "text/html": [
       "<div>\n",
       "<style scoped>\n",
       "    .dataframe tbody tr th:only-of-type {\n",
       "        vertical-align: middle;\n",
       "    }\n",
       "\n",
       "    .dataframe tbody tr th {\n",
       "        vertical-align: top;\n",
       "    }\n",
       "\n",
       "    .dataframe thead th {\n",
       "        text-align: right;\n",
       "    }\n",
       "</style>\n",
       "<table border=\"1\" class=\"dataframe\">\n",
       "  <thead>\n",
       "    <tr style=\"text-align: right;\">\n",
       "      <th></th>\n",
       "      <th>uniqueID</th>\n",
       "      <th>drugName</th>\n",
       "      <th>condition</th>\n",
       "      <th>review</th>\n",
       "      <th>rating</th>\n",
       "      <th>date</th>\n",
       "      <th>usefulCount</th>\n",
       "    </tr>\n",
       "  </thead>\n",
       "  <tbody>\n",
       "    <tr>\n",
       "      <th>30</th>\n",
       "      <td>51452</td>\n",
       "      <td>Azithromycin</td>\n",
       "      <td>NaN</td>\n",
       "      <td>\"Very good response. It is so useful for me. \"</td>\n",
       "      <td>10</td>\n",
       "      <td>18-Aug-10</td>\n",
       "      <td>1</td>\n",
       "    </tr>\n",
       "    <tr>\n",
       "      <th>148</th>\n",
       "      <td>61073</td>\n",
       "      <td>Urea</td>\n",
       "      <td>NaN</td>\n",
       "      <td>\"Accurate information.\"</td>\n",
       "      <td>10</td>\n",
       "      <td>2-Jul-11</td>\n",
       "      <td>13</td>\n",
       "    </tr>\n",
       "    <tr>\n",
       "      <th>488</th>\n",
       "      <td>132651</td>\n",
       "      <td>Doxepin</td>\n",
       "      <td>NaN</td>\n",
       "      <td>\"So far so good. Good for me and I can take it...</td>\n",
       "      <td>10</td>\n",
       "      <td>20-Oct-10</td>\n",
       "      <td>25</td>\n",
       "    </tr>\n",
       "    <tr>\n",
       "      <th>733</th>\n",
       "      <td>44297</td>\n",
       "      <td>Ethinyl estradiol / norgestimate</td>\n",
       "      <td>NaN</td>\n",
       "      <td>\"I haven&amp;#039;t been on it for a long time and...</td>\n",
       "      <td>8</td>\n",
       "      <td>24-Jan-11</td>\n",
       "      <td>1</td>\n",
       "    </tr>\n",
       "    <tr>\n",
       "      <th>851</th>\n",
       "      <td>68697</td>\n",
       "      <td>Medroxyprogesterone</td>\n",
       "      <td>NaN</td>\n",
       "      <td>\"I started the shot in July 2015 and ended in ...</td>\n",
       "      <td>6</td>\n",
       "      <td>23-Mar-17</td>\n",
       "      <td>1</td>\n",
       "    </tr>\n",
       "    <tr>\n",
       "      <th>...</th>\n",
       "      <td>...</td>\n",
       "      <td>...</td>\n",
       "      <td>...</td>\n",
       "      <td>...</td>\n",
       "      <td>...</td>\n",
       "      <td>...</td>\n",
       "      <td>...</td>\n",
       "    </tr>\n",
       "    <tr>\n",
       "      <th>52424</th>\n",
       "      <td>170508</td>\n",
       "      <td>Quetiapine</td>\n",
       "      <td>NaN</td>\n",
       "      <td>\"good for insomnia most of the time\"</td>\n",
       "      <td>7</td>\n",
       "      <td>27-May-15</td>\n",
       "      <td>10</td>\n",
       "    </tr>\n",
       "    <tr>\n",
       "      <th>52488</th>\n",
       "      <td>104629</td>\n",
       "      <td>Ethinyl estradiol / levonorgestrel</td>\n",
       "      <td>NaN</td>\n",
       "      <td>\"I am almost on my third month of my first pac...</td>\n",
       "      <td>5</td>\n",
       "      <td>25-Apr-11</td>\n",
       "      <td>4</td>\n",
       "    </tr>\n",
       "    <tr>\n",
       "      <th>52617</th>\n",
       "      <td>104642</td>\n",
       "      <td>Ethinyl estradiol / levonorgestrel</td>\n",
       "      <td>NaN</td>\n",
       "      <td>\"I have been taking this birth control for two...</td>\n",
       "      <td>10</td>\n",
       "      <td>11-Jan-11</td>\n",
       "      <td>1</td>\n",
       "    </tr>\n",
       "    <tr>\n",
       "      <th>52742</th>\n",
       "      <td>720</td>\n",
       "      <td>Medroxyprogesterone</td>\n",
       "      <td>NaN</td>\n",
       "      <td>\"I have been using the shot for 7 years now an...</td>\n",
       "      <td>10</td>\n",
       "      <td>21-Apr-11</td>\n",
       "      <td>1</td>\n",
       "    </tr>\n",
       "    <tr>\n",
       "      <th>53429</th>\n",
       "      <td>162326</td>\n",
       "      <td>Hyaluronan</td>\n",
       "      <td>NaN</td>\n",
       "      <td>\"I am 52 years old and have had pain in my kne...</td>\n",
       "      <td>9</td>\n",
       "      <td>20-Oct-11</td>\n",
       "      <td>10</td>\n",
       "    </tr>\n",
       "  </tbody>\n",
       "</table>\n",
       "<p>1194 rows × 7 columns</p>\n",
       "</div>"
      ],
      "text/plain": [
       "       uniqueID                            drugName condition  \\\n",
       "30        51452                        Azithromycin       NaN   \n",
       "148       61073                                Urea       NaN   \n",
       "488      132651                             Doxepin       NaN   \n",
       "733       44297    Ethinyl estradiol / norgestimate       NaN   \n",
       "851       68697                 Medroxyprogesterone       NaN   \n",
       "...         ...                                 ...       ...   \n",
       "52424    170508                          Quetiapine       NaN   \n",
       "52488    104629  Ethinyl estradiol / levonorgestrel       NaN   \n",
       "52617    104642  Ethinyl estradiol / levonorgestrel       NaN   \n",
       "52742       720                 Medroxyprogesterone       NaN   \n",
       "53429    162326                          Hyaluronan       NaN   \n",
       "\n",
       "                                                  review  rating       date  \\\n",
       "30        \"Very good response. It is so useful for me. \"      10  18-Aug-10   \n",
       "148                              \"Accurate information.\"      10   2-Jul-11   \n",
       "488    \"So far so good. Good for me and I can take it...      10  20-Oct-10   \n",
       "733    \"I haven&#039;t been on it for a long time and...       8  24-Jan-11   \n",
       "851    \"I started the shot in July 2015 and ended in ...       6  23-Mar-17   \n",
       "...                                                  ...     ...        ...   \n",
       "52424               \"good for insomnia most of the time\"       7  27-May-15   \n",
       "52488  \"I am almost on my third month of my first pac...       5  25-Apr-11   \n",
       "52617  \"I have been taking this birth control for two...      10  11-Jan-11   \n",
       "52742  \"I have been using the shot for 7 years now an...      10  21-Apr-11   \n",
       "53429  \"I am 52 years old and have had pain in my kne...       9  20-Oct-11   \n",
       "\n",
       "       usefulCount  \n",
       "30               1  \n",
       "148             13  \n",
       "488             25  \n",
       "733              1  \n",
       "851              1  \n",
       "...            ...  \n",
       "52424           10  \n",
       "52488            4  \n",
       "52617            1  \n",
       "52742            1  \n",
       "53429           10  \n",
       "\n",
       "[1194 rows x 7 columns]"
      ]
     },
     "execution_count": 6,
     "metadata": {},
     "output_type": "execute_result"
    }
   ],
   "source": [
    "Condata[Condata.isna().any(axis=1)]"
   ]
  },
  {
   "cell_type": "markdown",
   "metadata": {},
   "source": [
    "**Droping NaN values**"
   ]
  },
  {
   "cell_type": "code",
   "execution_count": 7,
   "metadata": {},
   "outputs": [],
   "source": [
    "train = train.dropna(axis = 0)\n",
    "test = test.dropna(axis = 0)"
   ]
  },
  {
   "cell_type": "markdown",
   "metadata": {},
   "source": [
    "**Dropping the \"/span\" HTML Tag**"
   ]
  },
  {
   "cell_type": "code",
   "execution_count": 8,
   "metadata": {},
   "outputs": [],
   "source": [
    "train = train[train['condition'].astype(str).str.contains('</span>') == False]\n",
    "test = test[test['condition'].astype(str).str.contains('</span>') == False]"
   ]
  },
  {
   "cell_type": "markdown",
   "metadata": {},
   "source": [
    "**Changing the ASCII Code with an Apostrophe**"
   ]
  },
  {
   "cell_type": "code",
   "execution_count": 9,
   "metadata": {},
   "outputs": [],
   "source": [
    "train['review'] = train['review'].str.replace(\"&#039;\", \"'\", regex = False)\n",
    "test['review'] = test['review'].str.replace(\"&#039;\", \"'\", regex = False)"
   ]
  },
  {
   "cell_type": "markdown",
   "metadata": {},
   "source": [
    "**Removing Special Characters**"
   ]
  },
  {
   "cell_type": "code",
   "execution_count": 10,
   "metadata": {},
   "outputs": [],
   "source": [
    "train['review'] = train['review'].str.replace('&\\w+;',' ', regex = False)\n",
    "test['review'] = test['review'].str.replace('&\\w+;',' ', regex = False)"
   ]
  },
  {
   "cell_type": "markdown",
   "metadata": {},
   "source": [
    "**Dropping rows with Conditions that only have One Drug**"
   ]
  },
  {
   "cell_type": "code",
   "execution_count": 11,
   "metadata": {},
   "outputs": [],
   "source": [
    "oneDrug = train.groupby(['condition'])['drugName'].nunique().sort_values(ascending = False)\n",
    "oneDrug_list = oneDrug[oneDrug == 1].index.to_list()\n",
    "train = train[~train['condition'].isin(oneDrug_list)]\n",
    "\n",
    "oneDrug_test = test.groupby(['condition'])['drugName'].nunique().sort_values(ascending = False)\n",
    "oneDrug_list_test = oneDrug_test[oneDrug_test == 1].index.to_list()\n",
    "test = test[~test['condition'].isin(oneDrug_list_test)]"
   ]
  },
  {
   "cell_type": "markdown",
   "metadata": {},
   "source": [
    "**Converting to lowecase**"
   ]
  },
  {
   "cell_type": "code",
   "execution_count": 12,
   "metadata": {},
   "outputs": [],
   "source": [
    "train['review'] = train['review'].map(lambda x: x.lower())\n",
    "test['review'] = test['review'].map(lambda x: x.lower())"
   ]
  },
  {
   "cell_type": "markdown",
   "metadata": {},
   "source": [
    "**Tokenizing the Review Text and Converting to Sequences**\n",
    "\n",
    "max_features - how many unique words are used from the text data.\n",
    "\n",
    "sequence_length - the maximum length of the review. All reviews are zero-padded to this length."
   ]
  },
  {
   "cell_type": "code",
   "execution_count": 13,
   "metadata": {},
   "outputs": [
    {
     "name": "stdout",
     "output_type": "stream",
     "text": [
      "Found 53410 unique tokens.\n",
      "Wall time: 11 s\n"
     ]
    }
   ],
   "source": [
    "%%time\n",
    "\n",
    "max_features = 5000\n",
    "sequence_length = 200\n",
    "\n",
    "# Tokenize the text\n",
    "samples = train['review']\n",
    "tokenizer = Tokenizer(num_words = max_features)\n",
    "tokenizer.fit_on_texts(samples)\n",
    "\n",
    "# Convert text to sequences\n",
    "sequences = tokenizer.texts_to_sequences(samples)\n",
    "\n",
    "# Print out the number of unique tokens\n",
    "word_index = tokenizer.word_index\n",
    "print(f'Found {len(word_index)} unique tokens.')"
   ]
  },
  {
   "cell_type": "markdown",
   "metadata": {},
   "source": [
    "**Categorize the ratings. 3 categories:**\n",
    "\n",
    "- when ratings >= 6, then labels = 2.0\n",
    "- when ratings >= 5 and ratings < 6, then labels = 1.0\n",
    "- when ratings < 5, then labels = 0.0"
   ]
  },
  {
   "cell_type": "code",
   "execution_count": 14,
   "metadata": {},
   "outputs": [
    {
     "data": {
      "text/plain": [
       "array([2., 2., 1., 2., 2., 0., 0., 2., 0., 2., 2., 2., 0., 0., 0., 2., 2.,\n",
       "       2., 2., 2., 2., 2., 2., 2., 0., 2., 2., 2., 1., 2.])"
      ]
     },
     "execution_count": 14,
     "metadata": {},
     "output_type": "execute_result"
    }
   ],
   "source": [
    "ratings = train['rating'].values\n",
    "labels = 1.0*(ratings >= 7) + 1.0*(ratings >= 5)\n",
    "labels[:30]"
   ]
  },
  {
   "cell_type": "code",
   "execution_count": 15,
   "metadata": {},
   "outputs": [
    {
     "name": "stdout",
     "output_type": "stream",
     "text": [
      "Shape of data tensor: (158937, 200)\n"
     ]
    }
   ],
   "source": [
    "data = pad_sequences(sequences, maxlen = sequence_length)\n",
    "print('Shape of data tensor:', data.shape)"
   ]
  },
  {
   "cell_type": "markdown",
   "metadata": {},
   "source": [
    "**One-hot-code the labels.**"
   ]
  },
  {
   "cell_type": "code",
   "execution_count": 16,
   "metadata": {},
   "outputs": [
    {
     "name": "stdout",
     "output_type": "stream",
     "text": [
      "Shape of label tensor: (158937, 3)\n"
     ]
    },
    {
     "data": {
      "text/plain": [
       "array([[0., 0., 1.],\n",
       "       [0., 0., 1.],\n",
       "       [0., 1., 0.]], dtype=float32)"
      ]
     },
     "execution_count": 16,
     "metadata": {},
     "output_type": "execute_result"
    }
   ],
   "source": [
    "hot_labels = to_categorical(labels)\n",
    "print('Shape of label tensor:', hot_labels.shape)\n",
    "hot_labels[:3]"
   ]
  },
  {
   "cell_type": "markdown",
   "metadata": {},
   "source": [
    "**Spilting into training and validation set**"
   ]
  },
  {
   "cell_type": "code",
   "execution_count": 17,
   "metadata": {},
   "outputs": [],
   "source": [
    "VALIDATION_SPLIT = 0.25\n",
    "N = int(VALIDATION_SPLIT * data.shape[0])\n",
    "\n",
    "# Rearrange the data and the hot-encoded labels\n",
    "indices = np.arange(data.shape[0])\n",
    "np.random.shuffle(indices)\n",
    "\n",
    "data = data[indices]\n",
    "hot_labels = hot_labels[indices]\n",
    "\n",
    "# Split into train and validation datasets\n",
    "train_data = data[:-N]\n",
    "train_cat = hot_labels[:-N]\n",
    "val_data = data[-N:]\n",
    "val_cat = hot_labels[-N:]"
   ]
  },
  {
   "cell_type": "markdown",
   "metadata": {},
   "source": [
    "# Model "
   ]
  },
  {
   "cell_type": "markdown",
   "metadata": {},
   "source": [
    "The following model was used, it had an embedding layer along with three Conv1D() followed by MaxPooling1D() layers.In addition to these layers we added Dropout() after each MaxPooling() layer to help reduce overfitting in the model,we tried different droupout numbers and ended with 0.5 as it seemed the best to us.\n",
    "The activation fucntion was 'Relu' for hidden layers and 'Softmax' for thr output layer.The loss function used is catergorical_crossentropy since it is a multiclass classification problem,The optimizer used is 'Adam'since it showed better results then RMSprop and finally the metrics used was accuracy for this model."
   ]
  },
  {
   "cell_type": "code",
   "execution_count": 18,
   "metadata": {},
   "outputs": [
    {
     "name": "stdout",
     "output_type": "stream",
     "text": [
      "Model: \"sequential\"\n",
      "_________________________________________________________________\n",
      " Layer (type)                Output Shape              Param #   \n",
      "=================================================================\n",
      " embedding (Embedding)       (None, 200, 256)          1280256   \n",
      "                                                                 \n",
      " conv1d (Conv1D)             (None, 196, 128)          163968    \n",
      "                                                                 \n",
      " max_pooling1d (MaxPooling1D  (None, 39, 128)          0         \n",
      " )                                                               \n",
      "                                                                 \n",
      " dropout (Dropout)           (None, 39, 128)           0         \n",
      "                                                                 \n",
      " conv1d_1 (Conv1D)           (None, 35, 128)           82048     \n",
      "                                                                 \n",
      " max_pooling1d_1 (MaxPooling  (None, 7, 128)           0         \n",
      " 1D)                                                             \n",
      "                                                                 \n",
      " dropout_1 (Dropout)         (None, 7, 128)            0         \n",
      "                                                                 \n",
      " conv1d_2 (Conv1D)           (None, 3, 128)            82048     \n",
      "                                                                 \n",
      " global_average_pooling1d (G  (None, 128)              0         \n",
      " lobalAveragePooling1D)                                          \n",
      "                                                                 \n",
      " dropout_2 (Dropout)         (None, 128)               0         \n",
      "                                                                 \n",
      " dense (Dense)               (None, 128)               16512     \n",
      "                                                                 \n",
      " dense_1 (Dense)             (None, 3)                 387       \n",
      "                                                                 \n",
      "=================================================================\n",
      "Total params: 1,625,219\n",
      "Trainable params: 1,625,219\n",
      "Non-trainable params: 0\n",
      "_________________________________________________________________\n"
     ]
    }
   ],
   "source": [
    "model = Sequential([\n",
    "    Embedding(max_features + 1, 256, input_length = 200),\n",
    "   \n",
    "    Conv1D(128, 5, activation='relu'),\n",
    "    MaxPooling1D(5),\n",
    "    Dropout(0.5),\n",
    "    \n",
    "    Conv1D(128, 5, activation='relu'),\n",
    "    MaxPooling1D(5),\n",
    "    Dropout(0.5),\n",
    "    \n",
    "    Conv1D(128, 5, activation='relu'),\n",
    "    GlobalAveragePooling1D(),\n",
    "    Dropout(0.5),\n",
    "    Dense(128, activation=\"relu\"),\n",
    "    Dense(3, activation = 'softmax')])\n",
    "\n",
    "# Compile\n",
    "model.compile(loss = 'categorical_crossentropy',\n",
    "              optimizer = 'adam',\n",
    "              metrics = ['accuracy'])\n",
    "\n",
    "model.summary()"
   ]
  },
  {
   "cell_type": "markdown",
   "metadata": {},
   "source": [
    "# Training"
   ]
  },
  {
   "cell_type": "markdown",
   "metadata": {},
   "source": [
    "The training was simple, only 10 epochs were required,although we tried 15 epochs but there wasnt significant difference so we decided to stick with 10."
   ]
  },
  {
   "cell_type": "code",
   "execution_count": 19,
   "metadata": {},
   "outputs": [
    {
     "name": "stdout",
     "output_type": "stream",
     "text": [
      "Epoch 1/10\n",
      "932/932 [==============================] - 185s 198ms/step - loss: 0.6398 - accuracy: 0.7542 - val_loss: 0.5494 - val_accuracy: 0.8004\n",
      "Epoch 2/10\n",
      "932/932 [==============================] - 184s 198ms/step - loss: 0.5148 - accuracy: 0.8127 - val_loss: 0.5198 - val_accuracy: 0.8175\n",
      "Epoch 3/10\n",
      "932/932 [==============================] - 186s 200ms/step - loss: 0.4600 - accuracy: 0.8323 - val_loss: 0.4960 - val_accuracy: 0.8244\n",
      "Epoch 4/10\n",
      "932/932 [==============================] - 186s 200ms/step - loss: 0.4151 - accuracy: 0.8463 - val_loss: 0.4910 - val_accuracy: 0.8308\n",
      "Epoch 5/10\n",
      "932/932 [==============================] - 185s 198ms/step - loss: 0.3776 - accuracy: 0.8576 - val_loss: 0.4804 - val_accuracy: 0.8323\n",
      "Epoch 6/10\n",
      "932/932 [==============================] - 184s 197ms/step - loss: 0.3455 - accuracy: 0.8681 - val_loss: 0.4693 - val_accuracy: 0.8338\n",
      "Epoch 7/10\n",
      "932/932 [==============================] - 183s 196ms/step - loss: 0.3205 - accuracy: 0.8773 - val_loss: 0.4795 - val_accuracy: 0.8333\n",
      "Epoch 8/10\n",
      "932/932 [==============================] - 184s 197ms/step - loss: 0.2977 - accuracy: 0.8851 - val_loss: 0.4618 - val_accuracy: 0.8384\n",
      "Epoch 9/10\n",
      "932/932 [==============================] - 183s 197ms/step - loss: 0.2763 - accuracy: 0.8934 - val_loss: 0.4651 - val_accuracy: 0.8418\n",
      "Epoch 10/10\n",
      "932/932 [==============================] - 184s 198ms/step - loss: 0.2613 - accuracy: 0.8987 - val_loss: 0.4609 - val_accuracy: 0.8458\n",
      "Wall time: 30min 43s\n"
     ]
    }
   ],
   "source": [
    "%%time\n",
    "history = model.fit(train_data, train_cat,\n",
    "          batch_size = 128,\n",
    "          epochs = 10,\n",
    "          verbose = 1,\n",
    "          validation_data=(val_data, val_cat))"
   ]
  },
  {
   "cell_type": "markdown",
   "metadata": {},
   "source": [
    "# Results and Discussion"
   ]
  },
  {
   "cell_type": "markdown",
   "metadata": {},
   "source": [
    "The following results were achieved, we got around 90 percent accuracy from the training set and around 80-85 percent from the validation set which was increasing,for loss we got around 0.2 percent and 0.4-0.5 loss with validation set, we tried various methods like tunning layers, filters, dropouts, or  changing optimizers/loss functions to reduce the validation loss but the result were sometimes a smooth curve and some times flattening out,in the end we went with increasing the droupout since it showed the best results.\n"
   ]
  },
  {
   "cell_type": "code",
   "execution_count": 20,
   "metadata": {
    "tags": []
   },
   "outputs": [],
   "source": [
    "# Plot the accuracy and loss\n",
    "acc = history.history['accuracy']\n",
    "val_acc = history.history['val_accuracy']\n",
    "loss = history.history['loss']\n",
    "val_loss = history.history['val_loss']\n",
    "e = np.arange(len(acc)) + 1\n",
    "\n"
   ]
  },
  {
   "cell_type": "code",
   "execution_count": 21,
   "metadata": {},
   "outputs": [
    {
     "data": {
      "text/plain": [
       "<Figure size 1080x576 with 0 Axes>"
      ]
     },
     "execution_count": 21,
     "metadata": {},
     "output_type": "execute_result"
    },
    {
     "data": {
      "image/png": "[encoded data removed]",
      "text/plain": [
       "<Figure size 1080x576 with 1 Axes>"
      ]
     },
     "metadata": {},
     "output_type": "display_data"
    },
    {
     "data": {
      "text/plain": [
       "<Figure size 1080x576 with 0 Axes>"
      ]
     },
     "metadata": {},
     "output_type": "display_data"
    }
   ],
   "source": [
    "plt.plot(e, acc, label = 'train')\n",
    "plt.plot(e, val_acc, label = 'validation')\n",
    "plt.title('Training and validation accuracy')\n",
    "plt.xlabel('Epoch')\n",
    "plt.grid()\n",
    "plt.legend()\n",
    "\n",
    "plt.figure()"
   ]
  },
  {
   "cell_type": "code",
   "execution_count": 22,
   "metadata": {},
   "outputs": [
    {
     "data": {
      "image/png": "[encoded data removed]",
      "text/plain": [
       "<Figure size 1080x576 with 1 Axes>"
      ]
     },
     "metadata": {},
     "output_type": "display_data"
    }
   ],
   "source": [
    "plt.plot(e, loss, label = 'train')\n",
    "plt.plot(e, val_loss, label = 'validation')\n",
    "plt.title('Training and validation loss')\n",
    "plt.xlabel('Epoch')\n",
    "plt.grid()\n",
    "plt.legend()\n",
    "\n",
    "plt.show()"
   ]
  },
  {
   "cell_type": "code",
   "execution_count": 23,
   "metadata": {},
   "outputs": [
    {
     "name": "stdout",
     "output_type": "stream",
     "text": [
      "              precision    recall  f1-score   support\n",
      "\n",
      "           0       0.80      0.79      0.79      9974\n",
      "           1       0.45      0.30      0.36      3469\n",
      "           2       0.90      0.94      0.92     26291\n",
      "\n",
      "    accuracy                           0.85     39734\n",
      "   macro avg       0.71      0.68      0.69     39734\n",
      "weighted avg       0.83      0.85      0.84     39734\n",
      "\n"
     ]
    }
   ],
   "source": [
    "# Find the predicted values for the validation set\n",
    "pred_labels = np.argmax(model.predict(val_data), axis = 1)\n",
    "val_labels = np.argmax(val_cat, axis = 1)\n",
    "\n",
    "# Calculate the classiication report\n",
    "cr = classification_report(val_labels, pred_labels)\n",
    "print(cr)"
   ]
  },
  {
   "cell_type": "code",
   "execution_count": 24,
   "metadata": {},
   "outputs": [
    {
     "name": "stdout",
     "output_type": "stream",
     "text": [
      "[[ 7917  1052   980]\n",
      " [  606  1045   666]\n",
      " [ 1451  1372 24645]]\n"
     ]
    }
   ],
   "source": [
    "# Calculate the confusion matrix\n",
    "cm = confusion_matrix(val_labels, pred_labels).T\n",
    "print(cm)"
   ]
  },
  {
   "cell_type": "code",
   "execution_count": 25,
   "metadata": {},
   "outputs": [
    {
     "name": "stdout",
     "output_type": "stream",
     "text": [
      "Cohen's kappa (linear)    = 0.6751\n",
      "Cohen's kappa (quadratic) = 0.7737\n"
     ]
    }
   ],
   "source": [
    "# Calculate the cohen's kappa, oth with linear and quadratic weights\n",
    "k = cohen_kappa_score(val_labels, pred_labels)\n",
    "print(f\"Cohen's kappa (linear)    = {k:.4f}\")\n",
    "k2 = cohen_kappa_score(val_labels, pred_labels, weights = 'quadratic')\n",
    "print(f\"Cohen's kappa (quadratic) = {k2:.4f}\")"
   ]
  },
  {
   "cell_type": "markdown",
   "metadata": {},
   "source": [
    "# Performance Evalution"
   ]
  },
  {
   "cell_type": "markdown",
   "metadata": {},
   "source": [
    "We got 84 percent accuracy with this model in the testing set which is a good result, although it is less then the training set,but this is to be expected.The Cohen's kappa (linear) was 0.6758 and Cohen's kappa was 0.7785 which are fairly decent results."
   ]
  },
  {
   "cell_type": "code",
   "execution_count": 26,
   "metadata": {},
   "outputs": [],
   "source": [
    "test_samples = test['review'].values.tolist()\n",
    "test_ratings = test['rating'].values\n",
    "\n",
    "test_labels = 1.0*(test_ratings >= 7) + 1.0*(test_ratings >= 5)\n",
    "\n",
    "test_sequences = tokenizer.texts_to_sequences(test_samples)\n",
    "test_sequences = pad_sequences(test_sequences, maxlen = sequence_length)\n",
    "\n",
    "test_cat = to_categorical(test_labels)\n",
    "\n",
    "pred_labels_test = np.argmax(model.predict(test_sequences), axis = 1)\n",
    "test_labels = np.argmax(test_cat, axis = 1)"
   ]
  },
  {
   "cell_type": "code",
   "execution_count": 27,
   "metadata": {},
   "outputs": [
    {
     "name": "stdout",
     "output_type": "stream",
     "text": [
      "[0.45287036895751953, 0.8453592658042908]\n"
     ]
    }
   ],
   "source": [
    "results = model.evaluate(test_sequences, test_cat, verbose = 0)\n",
    "print(results)"
   ]
  },
  {
   "cell_type": "code",
   "execution_count": 28,
   "metadata": {},
   "outputs": [
    {
     "name": "stdout",
     "output_type": "stream",
     "text": [
      "              precision    recall  f1-score   support\n",
      "\n",
      "           0       0.80      0.80      0.80     13306\n",
      "           1       0.45      0.29      0.35      4733\n",
      "           2       0.90      0.94      0.92     34819\n",
      "\n",
      "    accuracy                           0.85     52858\n",
      "   macro avg       0.71      0.68      0.69     52858\n",
      "weighted avg       0.83      0.85      0.84     52858\n",
      "\n"
     ]
    }
   ],
   "source": [
    "cr_test = classification_report(test_labels, pred_labels_test)\n",
    "print(cr_test)"
   ]
  },
  {
   "cell_type": "code",
   "execution_count": 29,
   "metadata": {},
   "outputs": [
    {
     "name": "stdout",
     "output_type": "stream",
     "text": [
      "[[10639  1386  1258]\n",
      " [  817  1386   902]\n",
      " [ 1850  1961 32659]]\n"
     ]
    }
   ],
   "source": [
    "cm_test = confusion_matrix(test_labels, pred_labels_test).T\n",
    "print(cm_test)"
   ]
  },
  {
   "cell_type": "code",
   "execution_count": 30,
   "metadata": {},
   "outputs": [
    {
     "name": "stdout",
     "output_type": "stream",
     "text": [
      "Cohen's kappa (linear)    = 0.6758\n",
      "Cohen's kappa (quadratic) = 0.7785\n"
     ]
    }
   ],
   "source": [
    "k = cohen_kappa_score(test_labels, pred_labels_test)\n",
    "print(f\"Cohen's kappa (linear)    = {k:.4f}\")\n",
    "k2 = cohen_kappa_score(test_labels, pred_labels_test, weights = 'quadratic')\n",
    "print(f\"Cohen's kappa (quadratic) = {k2:.4f}\")"
   ]
  },
  {
   "cell_type": "markdown",
   "metadata": {},
   "source": [
    "# Conclusions"
   ]
  },
  {
   "cell_type": "markdown",
   "metadata": {},
   "source": [
    "Overall our model worked well with testing test,results inhe Grässer et al article, were better then ours,,we got around 84% accuracy,0.67 cohen Kappa linear and 0.77 quadratic which according to us are reasonable results.\n",
    "There were complexities handling the validation loss,for now we dealt it with using dropout layers,but we have a lot to learn.\n",
    "\n",
    "In this situation, the difference in optimizers was not considerable, but 'adam' performed better than 'rmsprop,' so we chose to use that optimizer.we kept the categorical_crossentropy as the loss fucntion , as this was a multiclass classification problem.\n",
    "\n",
    "on the other hand activation fucntion was 'Relu' for hidden layers and 'Softmax' for the output layer.\n",
    "\n",
    "In conclusion, this case study shows how complex it can be to work with langauage or text analysis, it also the highlights the importance of preprocessing and best practices that needs to be followed to reduce overfitting of text analysis model."
   ]
  },
  {
   "cell_type": "code",
   "execution_count": null,
   "metadata": {},
   "outputs": [],
   "source": []
  }
 ],
 "metadata": {
  "kernelspec": {
   "display_name": "Python 3 (ipykernel)",
   "language": "python",
   "name": "python3"
  },
  "language_info": {
   "codemirror_mode": {
    "name": "ipython",
    "version": 3
   },
   "file_extension": ".py",
   "mimetype": "text/x-python",
   "name": "python",
   "nbconvert_exporter": "python",
   "pygments_lexer": "ipython3",
   "version": "3.9.7"
  },
  "toc": {
   "base_numbering": 1,
   "nav_menu": {},
   "number_sections": true,
   "sideBar": true,
   "skip_h1_title": false,
   "title_cell": "Table of Contents",
   "title_sidebar": "Contents",
   "toc_cell": true,
   "toc_position": {},
   "toc_section_display": true,
   "toc_window_display": false
  }
 },
 "nbformat": 4,
 "nbformat_minor": 4
}
